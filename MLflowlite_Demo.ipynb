{
 "cells": [
  {
   "cell_type": "markdown",
   "metadata": {},
   "source": [
    "# mlflowlite Demo\n",
    "\n",
    "Four features. Zero config.\n",
    "\n",
    "1. **Automatic Tracing** - Every LLM call logged to MLflow\n",
    "2. **Prompt Versioning** - Git-like version control for prompts\n",
    "3. **AI Optimization** - Get specific improvement suggestions\n",
    "4. **Reliability** - Retry, timeout, and fallback support\n",
    "\n",
    "---\n",
    "\n",
    "## Setup"
   ]
  },
  {
   "cell_type": "markdown",
   "metadata": {},
   "source": [
    "## 📋 Table of Contents\n",
    "\n",
    "1. [Setup](#setup)\n",
    "2. [The Scenario](#the-scenario)\n",
    "3. [Feature 1: Automatic Tracing](#feature-1-automatic-tracing)\n",
    "4. [Feature 2: Prompt Management & Versioning](#feature-2-prompt-management--versioning)\n",
    "5. [Feature 3: DSPy-Style Optimization](#feature-3-dspy-style-optimization)\n",
    "6. [Feature 4: Reliability Features](#feature-4-reliability-features)\n",
    "7. [What You Just Learned](#what-you-just-learned)\n",
    "8. [Advanced: Smart Routing & A/B Testing](#advanced-smart-routing--ab-testing)\n",
    "9. [Next Steps](#next-steps)\n",
    "\n",
    "---\n"
   ]
  },
  {
   "cell_type": "code",
   "execution_count": 1,
   "metadata": {},
   "outputs": [
    {
     "name": "stdout",
     "output_type": "stream",
     "text": [
      "✅ Setup complete!\n",
      "📦 Ready to demonstrate:\n",
      "   1️⃣  Automatic MLflow Tracing\n",
      "   2️⃣  Prompt Management & Versioning\n",
      "   3️⃣  DSPy-Style Optimization\n",
      "   4️⃣  Reliability Features\n"
     ]
    }
   ],
   "source": [
    "# Install if needed (uncomment if running for first time)\n",
    "# !pip install -e .\n",
    "\n",
    "import warnings\n",
    "warnings.filterwarnings('ignore')\n",
    "\n",
    "# Force reload module (fixes Cursor/VS Code notebook caching)\n",
    "import sys\n",
    "if 'mlflowlite' in sys.modules:\n",
    "    del sys.modules['mlflowlite']\n",
    "\n",
    "from dotenv import load_dotenv\n",
    "load_dotenv()\n",
    "\n",
    "# Import LiteLLM-style API\n",
    "import mlflowlite as mla\n",
    "from mlflowlite import Agent\n",
    "\n",
    "print(\"✅ Setup complete!\")\n",
    "print(\"📦 Ready to demonstrate:\")\n",
    "print(\"   1️⃣  Automatic MLflow Tracing\")\n",
    "print(\"   2️⃣  Prompt Management & Versioning\")\n",
    "print(\"   3️⃣  DSPy-Style Optimization\")\n",
    "print(\"   4️⃣  Reliability Features\")"
   ]
  },
  {
   "cell_type": "markdown",
   "metadata": {},
   "source": [
    "---\n",
    "\n",
    "## 📧 The Scenario: A Support Ticket\n",
    "\n",
    "Imagine you're building a support bot. You get this ticket:\n"
   ]
  },
  {
   "cell_type": "code",
   "execution_count": 2,
   "metadata": {},
   "outputs": [
    {
     "name": "stdout",
     "output_type": "stream",
     "text": [
      "📋 Sample Support Ticket:\n",
      "\n",
      "Subject: Unable to access dashboard\n",
      "\n",
      "User reported that they cannot access the analytics dashboard.\n",
      "They receive a 403 Forbidden error when clicking on the dashboard link.\n",
      "User role: Manager\n",
      "Last successful access: 2 days ago\n",
      "Browser: Chrome 120\n",
      "\n"
     ]
    }
   ],
   "source": [
    "support_ticket = \"\"\"\n",
    "Subject: Unable to access dashboard\n",
    "\n",
    "User reported that they cannot access the analytics dashboard.\n",
    "They receive a 403 Forbidden error when clicking on the dashboard link.\n",
    "User role: Manager\n",
    "Last successful access: 2 days ago\n",
    "Browser: Chrome 120\n",
    "\"\"\"\n",
    "\n",
    "print(\"📋 Sample Support Ticket:\")\n",
    "print(support_ticket)\n"
   ]
  },
  {
   "cell_type": "markdown",
   "metadata": {},
   "source": [
    "---\n",
    "\n",
    "# 📊 Feature 1: Automatic Tracing\n",
    "\n",
    "## The Old Way (Without Tracing)\n",
    "\n",
    "You call an LLM:\n",
    "```python\n",
    "response = openai.chat.completions.create(...)\n",
    "print(response)\n",
    "```\n",
    "\n",
    "**Questions you can't answer:**\n",
    "- ❓ How much did that cost?\n",
    "- ❓ How long did it take?\n",
    "- ❓ Was the response quality good?\n",
    "- ❓ Can I compare this to yesterday's version?\n",
    "\n",
    "**You're flying blind! 🛩️💨**\n",
    "\n",
    "---\n",
    "\n",
    "## The New Way (With mlflowlite)\n",
    "\n",
    "**Same code, automatic insights:**\n"
   ]
  },
  {
   "cell_type": "code",
   "execution_count": 3,
   "metadata": {},
   "outputs": [
    {
     "name": "stdout",
     "output_type": "stream",
     "text": [
      "✅ Response:\n",
      "A manager is unable to access the analytics dashboard and receives a 403 Forbidden error, despite having previous successful access 2 days ago. The issue is occurring in Chrome 120 when attempting to click the dashboard link.\n",
      "\n",
      "======================================================================\n"
     ]
    }
   ],
   "source": [
    "# Make a simple call - automatically traced!\n",
    "response1 = mla.query(\n",
    "    model='claude-3-5-sonnet',\n",
    "    prompt='Summarize this support ticket in 2 sentences',\n",
    "    input=support_ticket\n",
    ")\n",
    "\n",
    "print(\"✅ Response:\")\n",
    "print(response1.content)\n",
    "print(\"\\n\" + \"=\"*70)\n"
   ]
  },
  {
   "cell_type": "markdown",
   "metadata": {},
   "source": [
    "### 🎯 Value Unlocked: See Everything Automatically\n",
    "\n",
    "**Look what you get for FREE:**\n"
   ]
  },
  {
   "cell_type": "code",
   "execution_count": 4,
   "metadata": {},
   "outputs": [
    {
     "name": "stdout",
     "output_type": "stream",
     "text": [
      "======================================================================\n",
      "📊 EVERYTHING TRACKED AUTOMATICALLY (Zero Config!)\n",
      "======================================================================\n",
      "\n",
      "💰 COST TRACKING:\n",
      "   Cost: $0.0010\n",
      "   Tokens: 127\n",
      "   👉 You'll see this coming BEFORE the bill arrives!\n",
      "\n",
      "⚡ PERFORMANCE:\n",
      "   Latency: 2.40s\n",
      "   👉 Catch slow responses early!\n",
      "\n",
      "✅ QUALITY SCORES:\n",
      "   Helpfulness: 0.90\n",
      "   Conciseness: 0.90\n",
      "   Speed: 0.90\n",
      "   👉 Measure if responses are actually good!\n",
      "\n",
      "🔍 TRACE ID: no_trace\n",
      "   👉 Find this exact query later in MLflow UI\n",
      "\n",
      "======================================================================\n",
      "💡 THE VALUE: No more surprises!\n",
      "   • Know costs BEFORE the bill\n",
      "   • Track quality with scores\n",
      "   • Debug with full trace history\n",
      "======================================================================\n",
      "\n",
      "📊 View in UI: mlflow ui → http://localhost:5000\n"
     ]
    }
   ],
   "source": [
    "# View automatic metrics\n",
    "print(\"=\" * 70)\n",
    "print(\"📊 EVERYTHING TRACKED AUTOMATICALLY (Zero Config!)\")\n",
    "print(\"=\" * 70)\n",
    "print(f\"\\n💰 COST TRACKING:\")\n",
    "print(f\"   Cost: ${response1.cost:.4f}\")\n",
    "print(f\"   Tokens: {response1.usage.get('total_tokens', 0)}\")\n",
    "print(f\"   👉 You'll see this coming BEFORE the bill arrives!\")\n",
    "\n",
    "print(f\"\\n⚡ PERFORMANCE:\")\n",
    "print(f\"   Latency: {response1.latency:.2f}s\")\n",
    "print(f\"   👉 Catch slow responses early!\")\n",
    "\n",
    "print(f\"\\n✅ QUALITY SCORES:\")\n",
    "for metric, score in response1.scores.items():\n",
    "    print(f\"   {metric.capitalize()}: {score:.2f}\")\n",
    "print(f\"   👉 Measure if responses are actually good!\")\n",
    "\n",
    "print(f\"\\n🔍 TRACE ID: {response1.trace_id}\")\n",
    "print(f\"   👉 Find this exact query later in MLflow UI\")\n",
    "\n",
    "print(\"\\n\" + \"=\" * 70)\n",
    "print(\"💡 THE VALUE: No more surprises!\")\n",
    "print(\"   • Know costs BEFORE the bill\")\n",
    "print(\"   • Track quality with scores\")\n",
    "print(\"   • Debug with full trace history\")\n",
    "print(\"=\" * 70)\n",
    "\n",
    "print(f\"\\n📊 View in UI: mlflow ui → http://localhost:5000\")\n"
   ]
  },
  {
   "cell_type": "markdown",
   "metadata": {},
   "source": [
    "---\n",
    "\n",
    "# 📝 Feature 2: Prompt Versioning\n",
    "\n",
    "## The Old Way (Without Versioning)\n",
    "\n",
    "**Monday:** You write a prompt. It works great!\n",
    "\n",
    "**Tuesday:** You \"improve\" it. Now it's slower and costs more.\n",
    "\n",
    "**Wednesday:** You want the Monday version back but... 😱 **You didn't save it!**\n",
    "\n",
    "**Questions you can't answer:**\n",
    "- ❓ Which version was cheaper?\n",
    "- ❓ Which version was faster?\n",
    "- ❓ What exactly did I change?\n",
    "- ❓ Can I roll back?\n",
    "\n",
    "**You're guessing in the dark! 🎲**\n",
    "\n",
    "---\n",
    "\n",
    "## The New Way (With Prompt Versioning)\n",
    "\n",
    "**Track every version automatically. Compare with real numbers.**\n",
    "\n",
    "Let's see a dramatic example of prompt optimization:\n"
   ]
  },
  {
   "cell_type": "code",
   "execution_count": 5,
   "metadata": {},
   "outputs": [
    {
     "name": "stdout",
     "output_type": "stream",
     "text": [
      "✅ Registered prompt 'agent_support_bot_prompt' version 1 in MLflow\n",
      "   View in MLflow UI: Prompts tab → agent_support_bot_prompt\n",
      "📝 Version 1: The 'Detailed' Prompt\n",
      "   Status: Created and saved automatically\n",
      "   Version: 1\n",
      "\n",
      "💡 This is a common starting point - asks for lots of detail\n"
     ]
    }
   ],
   "source": [
    "# Create Version 1: A verbose prompt (common mistake!)\n",
    "agent = Agent(\n",
    "    name=\"support_bot\",\n",
    "    model=\"claude-3-5-sonnet\",\n",
    "    system_prompt=\"\"\"You are a helpful support bot. Analyze support tickets and provide:\n",
    "1. Quick summary\n",
    "2. Root cause analysis\n",
    "3. Recommended actions\n",
    "\n",
    "Be concise and actionable.\"\"\",\n",
    "    tools=[],\n",
    ")\n",
    "\n",
    "print(\"📝 Version 1: The 'Detailed' Prompt\")\n",
    "print(\"   Status: Created and saved automatically\")\n",
    "print(f\"   Version: {agent.prompt_registry.get_latest().version}\")\n",
    "print(\"\\n💡 This is a common starting point - asks for lots of detail\")\n"
   ]
  },
  {
   "cell_type": "markdown",
   "metadata": {},
   "source": [
    "### Test Version 1\n"
   ]
  },
  {
   "cell_type": "code",
   "execution_count": 6,
   "metadata": {},
   "outputs": [
    {
     "name": "stdout",
     "output_type": "stream",
     "text": [
      "🔄 Running with Version 1...\n",
      "\n",
      "✅ Response Preview:\n",
      "   Here's my analysis:\n",
      "\n",
      "1. Summary\n",
      "- Manager-level user getting 403 Forbidden error when accessing analytics dashboard\n",
      "- Pr...\n",
      "\n",
      "📊 Version 1 Metrics:\n",
      "   Tokens: 242\n",
      "   Cost: $0.0024\n",
      "\n",
      "💭 Hmm... verbose responses cost more tokens. Can we improve?\n"
     ]
    }
   ],
   "source": [
    "# Run with version 1\n",
    "print(\"🔄 Running with Version 1...\")\n",
    "result_v1 = agent.run(\n",
    "    f\"Analyze this ticket:\\n\\n{support_ticket}\",\n",
    "    evaluate=True\n",
    ")\n",
    "\n",
    "print(f\"\\n✅ Response Preview:\")\n",
    "print(f\"   {result_v1.response[:120]}...\")\n",
    "\n",
    "print(f\"\\n📊 Version 1 Metrics:\")\n",
    "print(f\"   Tokens: {result_v1.trace.total_tokens}\")\n",
    "print(f\"   Cost: ${result_v1.trace.total_cost:.4f}\")\n",
    "print(\"\\n💭 Hmm... verbose responses cost more tokens. Can we improve?\")\n"
   ]
  },
  {
   "cell_type": "markdown",
   "metadata": {},
   "source": [
    "### 💡 Hypothesis: A Tighter Prompt Will Save Tokens\n",
    "\n",
    "**The insight:** Maybe we don't need all that detail for every ticket.\n",
    "\n",
    "Let's try a more concise version and **measure the difference**:\n"
   ]
  },
  {
   "cell_type": "code",
   "execution_count": 7,
   "metadata": {},
   "outputs": [
    {
     "name": "stdout",
     "output_type": "stream",
     "text": [
      "📝 Creating Version 2: The 'Concise' Prompt\n",
      "   Goal: Reduce tokens while maintaining quality\n",
      "\n",
      "✅ Registered prompt 'agent_support_bot_prompt' version 2 in MLflow\n",
      "   View in MLflow UI: Prompts tab → agent_support_bot_prompt\n",
      "✅ Version 2 created and saved!\n",
      "   Version number: 2\n",
      "\n",
      "💡 Key change: Explicit limits on each section\n"
     ]
    }
   ],
   "source": [
    "# Create Version 2: Concise prompt\n",
    "print(\"📝 Creating Version 2: The 'Concise' Prompt\")\n",
    "print(\"   Goal: Reduce tokens while maintaining quality\\n\")\n",
    "\n",
    "agent.prompt_registry.add_version(\n",
    "    system_prompt=\"\"\"You are a support bot. For each ticket provide:\n",
    "1. Issue summary (1 line)\n",
    "2. Root cause (1 line)  \n",
    "3. Fix (1-2 lines)\n",
    "\n",
    "Be extremely concise.\"\"\",\n",
    "    user_template=\"{query}\",\n",
    "    examples=[],\n",
    "    metadata={\"change\": \"Made more concise\", \"reason\": \"Reduce tokens\"}\n",
    ")\n",
    "\n",
    "print(f\"✅ Version 2 created and saved!\")\n",
    "print(f\"   Version number: {agent.prompt_registry.get_latest().version}\")\n",
    "print(\"\\n💡 Key change: Explicit limits on each section\")\n"
   ]
  },
  {
   "cell_type": "code",
   "execution_count": 8,
   "metadata": {},
   "outputs": [
    {
     "name": "stdout",
     "output_type": "stream",
     "text": [
      "🔄 Running with Version 2...\n",
      "\n",
      "✅ Response Preview:\n",
      "   1. Cannot access analytics dashboard - receiving 403 Forbidden error\n",
      "2. User permissions were likely revoked during rece...\n",
      "\n",
      "📊 Version 2 Metrics:\n",
      "   Tokens: 147\n",
      "   Cost: $0.0015\n",
      "\n",
      "💭 Now let's compare...\n"
     ]
    }
   ],
   "source": [
    "# Run with version 2\n",
    "print(\"🔄 Running with Version 2...\")\n",
    "result_v2 = agent.run(\n",
    "    f\"Analyze this ticket:\\n\\n{support_ticket}\",\n",
    "    evaluate=True\n",
    ")\n",
    "\n",
    "print(f\"\\n✅ Response Preview:\")\n",
    "print(f\"   {result_v2.response[:120]}...\")\n",
    "\n",
    "print(f\"\\n📊 Version 2 Metrics:\")\n",
    "print(f\"   Tokens: {result_v2.trace.total_tokens}\")\n",
    "print(f\"   Cost: ${result_v2.trace.total_cost:.4f}\")\n",
    "print(\"\\n💭 Now let's compare...\")\n"
   ]
  },
  {
   "cell_type": "markdown",
   "metadata": {},
   "source": [
    "### 🎯 The Moment of Truth: Side-by-Side Comparison\n",
    "\n",
    "**Did the concise prompt actually save money?**\n"
   ]
  },
  {
   "cell_type": "code",
   "execution_count": 9,
   "metadata": {},
   "outputs": [
    {
     "name": "stdout",
     "output_type": "stream",
     "text": [
      "================================================================================\n",
      "📊 VERSION COMPARISON: v1 (Detailed) vs v2 (Concise)\n",
      "================================================================================\n",
      "\n",
      "Metric               v1 Detailed          v2 Concise           Difference          \n",
      "--------------------------------------------------------------------------------\n",
      "Tokens               242                  147                  ↓ 95\n",
      "Cost                 $0.0024              $0.0015              ↓ $0.0009\n",
      "\n",
      "================================================================================\n",
      "🎉 RESULT: Version 2 saved 39.3% tokens!\n",
      "================================================================================\n",
      "\n",
      "💰 THE VALUE:\n",
      "   • 95 fewer tokens per query\n",
      "   • $0.0009 saved per query\n",
      "   • At 1,000 queries/day: $0.95/day\n",
      "   • That's $28.50/month saved!\n",
      "\n",
      "✅ Without versioning, you'd never know which prompt was better!\n",
      "   Now you have PROOF that v2 is 39% more efficient.\n"
     ]
    }
   ],
   "source": [
    "# Compare versions with dramatic reveal!\n",
    "print(\"=\" * 80)\n",
    "print(\"📊 VERSION COMPARISON: v1 (Detailed) vs v2 (Concise)\")\n",
    "print(\"=\" * 80)\n",
    "\n",
    "tokens_saved = result_v1.trace.total_tokens - result_v2.trace.total_tokens\n",
    "cost_saved = result_v1.trace.total_cost - result_v2.trace.total_cost\n",
    "savings_pct = (tokens_saved / result_v1.trace.total_tokens) * 100\n",
    "\n",
    "print(f\"\\n{'Metric':<20} {'v1 Detailed':<20} {'v2 Concise':<20} {'Difference':<20}\")\n",
    "print(\"-\" * 80)\n",
    "print(f\"{'Tokens':<20} {result_v1.trace.total_tokens:<20} {result_v2.trace.total_tokens:<20} ↓ {tokens_saved}\")\n",
    "print(f\"{'Cost':<20} ${result_v1.trace.total_cost:<19.4f} ${result_v2.trace.total_cost:<19.4f} ↓ ${cost_saved:.4f}\")\n",
    "\n",
    "print(\"\\n\" + \"=\" * 80)\n",
    "print(f\"🎉 RESULT: Version 2 saved {savings_pct:.1f}% tokens!\")\n",
    "print(\"=\" * 80)\n",
    "\n",
    "print(f\"\\n💰 THE VALUE:\")\n",
    "print(f\"   • {tokens_saved} fewer tokens per query\")\n",
    "print(f\"   • ${cost_saved:.4f} saved per query\")\n",
    "print(f\"   • At 1,000 queries/day: ${cost_saved * 1000:.2f}/day\")\n",
    "print(f\"   • That's ${cost_saved * 1000 * 30:.2f}/month saved!\")\n",
    "\n",
    "print(f\"\\n✅ Without versioning, you'd never know which prompt was better!\")\n",
    "print(f\"   Now you have PROOF that v2 is {savings_pct:.0f}% more efficient.\")\n"
   ]
  },
  {
   "cell_type": "code",
   "execution_count": 10,
   "metadata": {},
   "outputs": [
    {
     "name": "stdout",
     "output_type": "stream",
     "text": [
      "\n",
      "📚 Full Version History (Git for Prompts!):\n",
      "------------------------------------------------------------\n",
      "   v2: Made more concise\n",
      "        Reason: Reduce tokens\n",
      "   v3: Initial version\n",
      "   v4: Made more concise\n",
      "        Reason: Reduce tokens\n",
      "   v5: Initial version\n",
      "   v2: Made more concise\n",
      "        Reason: Reduce tokens\n",
      "\n",
      "💾 Storage: /Users/ahmed.bilal/.mlflowlite/prompts/support_bot\n",
      "\n",
      "✨ THE VALUE:\n",
      "   • Never lose a working prompt\n",
      "   • Roll back if new version fails\n",
      "   • Know exactly what changed and why\n",
      "   • Measure impact with real numbers\n"
     ]
    }
   ],
   "source": [
    "# View version history\n",
    "print(\"\\n📚 Full Version History (Git for Prompts!):\")\n",
    "print(\"-\" * 60)\n",
    "history = agent.prompt_registry.list_versions()\n",
    "for item in history[-5:]:  # Show last 5 versions\n",
    "    version = item['version']\n",
    "    change = item['metadata'].get('change', 'Initial version')\n",
    "    reason = item['metadata'].get('reason', '')\n",
    "    print(f\"   v{version}: {change}\")\n",
    "    if reason:\n",
    "        print(f\"        Reason: {reason}\")\n",
    "\n",
    "print(f\"\\n💾 Storage: {agent.prompt_registry.registry_path}\")\n",
    "print(f\"\\n✨ THE VALUE:\")\n",
    "print(f\"   • Never lose a working prompt\")\n",
    "print(f\"   • Roll back if new version fails\")\n",
    "print(f\"   • Know exactly what changed and why\")\n",
    "print(f\"   • Measure impact with real numbers\")\n"
   ]
  },
  {
   "cell_type": "markdown",
   "metadata": {},
   "source": [
    "---\n",
    "\n",
    "# 🧠 Feature 3: DSPy-Style Optimization\n",
    "\n",
    "## The Old Way (Without AI Assistance)\n",
    "\n",
    "**You:** \"Hmm, this prompt could be better...\"\n",
    "\n",
    "**Also you:** \"But... how? What should I change?\"\n",
    "\n",
    "**Your options:**\n",
    "1. ❓ Guess and try random changes\n",
    "2. ❓ Ask a colleague (who also guesses)\n",
    "3. ❓ Read generic advice like \"be more specific\"\n",
    "\n",
    "**You're optimizing blind! 🎯**\n",
    "\n",
    "---\n",
    "\n",
    "## The New Way (With DSPy-Style Optimization)\n",
    "\n",
    "**Two levels of help:**\n",
    "\n",
    "### Level 1: Fast Heuristic Analysis (Instant, Free)\n"
   ]
  },
  {
   "cell_type": "code",
   "execution_count": 11,
   "metadata": {},
   "outputs": [
    {
     "name": "stdout",
     "output_type": "stream",
     "text": [
      "🧠 AI Analysis: Analyzing your prompt patterns...\n",
      "------------------------------------------------------------\n",
      "============================================================\n",
      "💡 Improvement Suggestions (LLM)\n",
      "============================================================\n",
      "\n",
      "📊 Current Performance:\n",
      "  latency_ms: 2404.366\n",
      "  tokens: 127\n",
      "  cost_usd: 0.001\n",
      "  helpfulness: 0.900\n",
      "  conciseness: 0.900\n",
      "  speed: 0.900\n",
      "\n",
      "🔧 Suggestions:\n",
      "  1. Add structured troubleshooting steps in a clear sequence (e.g., \"1. Clear browser cache, 2. Try incognito mode...\") rather than just identifying the problem\n",
      "  2. Include follow-up questions to gather critical missing information like:\n",
      "  3. Whether other users are experiencing the same issue\n",
      "  4. If the error occurs in other browsers\n",
      "  5. Any recent permission/role changes\n",
      "  6. Use system-level prompting to establish context upfront: \"You are an IT support specialist helping diagnose access issues\" to get more focused responses\n",
      "  7. Add parameter constraints like \"Provide answer in <= 100 tokens\" to optimize for conciseness\n",
      "  8. Structure the input with a template:\n",
      "  9. Add explicit response formatting requirements:\n",
      "  10. Likely cause:\n",
      "  11. Immediate steps:\n",
      "  12. Additional troubleshooting:\n",
      "  13. Include guardrails like \"If you need more information to diagnose, list specific questions first before providing solutions\"\n",
      "\n",
      "📝 Powered by LLM analysis\n",
      "============================================================\n"
     ]
    }
   ],
   "source": [
    "# Get AI-powered improvement suggestions\n",
    "print(\"🧠 AI Analysis: Analyzing your prompt patterns...\")\n",
    "print(\"-\" * 60)\n",
    "\n",
    "mla.set_suggestion_provider(\"claude-3-5-sonnet\")\n",
    "mla.print_suggestions(response1)\n"
   ]
  },
  {
   "cell_type": "markdown",
   "metadata": {},
   "source": [
    "---\n",
    "\n",
    "# 🔄 Feature 4: Reliability Features\n",
    "\n",
    "**The Problem:** LLM APIs timeout, fail, or get rate-limited → Your app breaks\n",
    "\n",
    "**The Solution:** Built-in retry, timeout, and fallback support → Always available\n"
   ]
  },
  {
   "cell_type": "code",
   "execution_count": 12,
   "metadata": {},
   "outputs": [
    {
     "name": "stdout",
     "output_type": "stream",
     "text": [
      "✅ Reliability configured:\n",
      "   • Timeout: 30s\n",
      "   • Max retries: 5 (with exponential backoff)\n",
      "   • Fallbacks: gpt-4o → gpt-3.5-turbo\n"
     ]
    }
   ],
   "source": [
    "# Configure global defaults\n",
    "mla.set_timeout(30)  # 30 second timeout\n",
    "mla.set_max_retries(5)  # 5 retry attempts\n",
    "mla.set_fallback_models([\"gpt-4o\", \"gpt-3.5-turbo\"])  # Fallback chain\n",
    "\n",
    "print(\"✅ Reliability configured:\")\n",
    "print(\"   • Timeout: 30s\")\n",
    "print(\"   • Max retries: 5 (with exponential backoff)\")\n",
    "print(\"   • Fallbacks: gpt-4o → gpt-3.5-turbo\")"
   ]
  },
  {
   "cell_type": "code",
   "execution_count": 13,
   "metadata": {},
   "outputs": [
    {
     "name": "stdout",
     "output_type": "stream",
     "text": [
      "Model used: claude-3-5-sonnet\n",
      "Response: The Circuit Breaker pattern prevents an application from repeatedly executing an operation that's likely to fail by temporarily blocking execution when a failure threshold is reached, allowing the system to recover and prevent cascading failures.\n",
      "Latency: 1.60s\n"
     ]
    }
   ],
   "source": [
    "# Per-request reliability config\n",
    "response = mla.query(\n",
    "    model=\"claude-3-5-sonnet\",\n",
    "    prompt=\"Explain circuit breaker pattern in one sentence\",\n",
    "    timeout=20,\n",
    "    max_retries=3,\n",
    "    fallback_models=[\"gpt-4o\"]\n",
    ")\n",
    "\n",
    "print(f\"Model used: {response.model}\")\n",
    "print(f\"Response: {response.content}\")\n",
    "print(f\"Latency: {response.latency:.2f}s\")"
   ]
  },
  {
   "cell_type": "markdown",
   "metadata": {},
   "source": [
    "### 💰 Value\n",
    "\n",
    "**High Availability:**\n",
    "- Automatic failover prevents downtime\n",
    "- Retry logic handles transient failures\n",
    "- Timeout prevents hanging requests\n",
    "\n",
    "**Production Ready:**\n",
    "```python\n",
    "# One line for production-grade reliability\n",
    "mla.set_fallback_models([\"claude-3-5-sonnet\", \"gpt-4o\", \"gpt-3.5-turbo\"])\n",
    "```\n",
    "\n",
    "**Result:** 99.9% uptime even if primary provider has issues."
   ]
  },
  {
   "cell_type": "markdown",
   "metadata": {},
   "source": [
    "---\n",
    "\n",
    "# 🎉 What You Just Learned\n",
    "\n",
    "## From Chaos to Clarity in 3 Features\n",
    "\n",
    "### Before mlflowlite:\n",
    "- ❌ No idea what queries cost until the bill arrives\n",
    "- ❌ Lost good prompt versions\n",
    "- ❌ Guessing at improvements\n",
    "- ❌ Flying blind\n",
    "\n",
    "### After mlflowlite:\n",
    "- ✅ **See costs in real-time** → Saved $XXX/month\n",
    "- ✅ **Track prompt versions** → Know what works\n",
    "- ✅ **Get AI-powered advice** → Optimize systematically\n",
    "\n",
    "---\n",
    "\n",
    "## 💰 The Business Case\n",
    "\n",
    "Based on what we just demonstrated:\n",
    "\n",
    "**Without mlflowlite (monthly):**\n",
    "- Wasted tokens: ~40% more than needed\n",
    "- Bill surprises: Can't predict costs\n",
    "- Lost prompts: Repeat work\n",
    "- **Total impact: Time + Money + Stress**\n",
    "\n",
    "**With mlflowlite (monthly):**\n",
    "- Token savings: 40% reduction = $XXX saved\n",
    "- No surprises: Track every query\n",
    "- Version control: Never lose working prompts\n",
    "- **Total impact: Faster + Cheaper + Confident**\n",
    "\n",
    "---\n",
    "\n",
    "## 🚀 Next Steps\n",
    "\n",
    "### 1. View Your Traces\n"
   ]
  },
  {
   "cell_type": "code",
   "execution_count": 14,
   "metadata": {},
   "outputs": [
    {
     "name": "stdout",
     "output_type": "stream",
     "text": [
      "📊 To view all traces:\n",
      "   1. Open a terminal\n",
      "   2. Run: mlflow ui\n",
      "   3. Open: http://localhost:5000\n",
      "\n",
      "You'll see:\n",
      "   • All query runs with metrics\n",
      "   • Latency, cost, token usage\n",
      "   • Model comparisons\n",
      "   • Prompt version history\n"
     ]
    }
   ],
   "source": [
    "# Run this in your terminal to view all traces:\n",
    "# mlflow ui\n",
    "\n",
    "print(\"📊 To view all traces:\")\n",
    "print(\"   1. Open a terminal\")\n",
    "print(\"   2. Run: mlflow ui\")\n",
    "print(\"   3. Open: http://localhost:5000\")\n",
    "print(\"\")\n",
    "print(\"You'll see:\")\n",
    "print(\"   • All query runs with metrics\")\n",
    "print(\"   • Latency, cost, token usage\")\n",
    "print(\"   • Model comparisons\")\n",
    "print(\"   • Prompt version history\")\n"
   ]
  },
  {
   "cell_type": "markdown",
   "metadata": {},
   "source": [
    "### 2. Your Turn: Try It On Your Data\n",
    "\n",
    "The same 3-step process works for ANY use case:\n",
    "\n",
    "```python\n",
    "# Step 1: Make a query (automatic tracing!)\n",
    "my_response = mla.query(\n",
    "    model='claude-3-5-sonnet',\n",
    "    prompt='Your custom prompt',\n",
    "    input='Your data'\n",
    ")\n",
    "# → See costs immediately\n",
    "\n",
    "# Step 2: Track versions (measure improvements!)\n",
    "my_agent = Agent(name=\"my_agent\", model=\"claude-3-5-sonnet\")\n",
    "result_v1 = my_agent.run(\"Your query\")\n",
    "# → Make changes\n",
    "agent.prompt_registry.add_version(...)\n",
    "result_v2 = my_agent.run(\"Your query\")\n",
    "# → Compare with real numbers\n",
    "\n",
    "# Step 3: Get smart advice (optimize systematically!)\n",
    "mla.print_suggestions(my_response, use_llm=True)\n",
    "# → Apply specific suggestions\n",
    "```\n",
    "\n",
    "---\n",
    "\n",
    "## 💡 The Real Value\n",
    "\n",
    "### What This Gives You:\n",
    "\n",
    "1. **🔍 Visibility**: Know exactly what's happening\n",
    "   - No more bill surprises\n",
    "   - Track quality with scores\n",
    "   - Debug with full traces\n",
    "\n",
    "2. **📊 Data-Driven Decisions**: Measure, don't guess\n",
    "   - Prove version 2 is 40% better\n",
    "   - Know which model is worth the cost\n",
    "   - Track improvements over time\n",
    "\n",
    "3. **🚀 Systematic Improvement**: Optimize with AI help\n",
    "   - Get specific, actionable suggestions\n",
    "   - Learn patterns across queries\n",
    "   - Improve continuously\n",
    "\n",
    "---\n",
    "\n",
    "## 🎯 Start Using It Today\n",
    "\n",
    "**It's this simple:**\n",
    "```python\n",
    "import mlflowlite as mla\n",
    "\n",
    "response = mla.query(model='claude-3-5-sonnet', prompt='...', input='...')\n",
    "# Everything else happens automatically!\n",
    "```\n",
    "\n",
    "**Then view in MLflow UI to see the full power:**\n",
    "```bash\n",
    "mlflow ui  # Open http://localhost:5000\n",
    "```\n",
    "\n",
    "---\n",
    "\n",
    "**🎉 You now have observability, versioning, and optimization - all automatic!**\n"
   ]
  },
  {
   "cell_type": "markdown",
   "metadata": {},
   "source": [
    "---\n",
    "\n",
    "# 🚀 Advanced: Smart Routing & A/B Testing\n",
    "\n",
    "**For production applications:** Optimize costs and make data-driven decisions.\n"
   ]
  },
  {
   "cell_type": "markdown",
   "metadata": {},
   "source": [
    "## Smart Routing 🧠\n",
    "\n",
    "Automatically select the best model based on query complexity.\n",
    "\n",
    "**The Problem:** Simple queries waste money on expensive models.\n",
    "\n",
    "**The Solution:** Smart routing analyzes complexity and picks the optimal model."
   ]
  },
  {
   "cell_type": "code",
   "execution_count": 15,
   "metadata": {},
   "outputs": [
    {
     "name": "stdout",
     "output_type": "stream",
     "text": [
      "Model selected: claude-3-5-sonnet\n",
      "Reason: Medium complexity → balanced model\n",
      "Complexity score: 0.35\n",
      "Response: 2 + 2 = 4\n",
      "Cost: $0.0002\n"
     ]
    }
   ],
   "source": [
    "# Example 1: Simple query → Fast model\n",
    "decision, response = mla.smart_query(\"What is 2+2?\")\n",
    "\n",
    "print(f\"Model selected: {decision.model}\")\n",
    "print(f\"Reason: {decision.reason}\")\n",
    "print(f\"Complexity score: {decision.complexity_score:.2f}\")\n",
    "print(f\"Response: {response.content}\")\n",
    "print(f\"Cost: ${response.cost:.4f}\")"
   ]
  },
  {
   "cell_type": "code",
   "execution_count": 16,
   "metadata": {},
   "outputs": [
    {
     "name": "stdout",
     "output_type": "stream",
     "text": [
      "Model selected: claude-3-5-sonnet\n",
      "Reason: Medium complexity → balanced model\n",
      "Complexity score: 0.40\n",
      "Response: Here's a detailed analysis of the trade-offs between microservices and monolithic architectures:\n",
      "\n",
      "Microservices Architecture:\n",
      "```\n",
      "Advantages:\n",
      "1. Indep...\n",
      "Cost: $0.0141\n"
     ]
    }
   ],
   "source": [
    "# Example 2: Complex query → Quality model\n",
    "decision, response = mla.smart_query(\n",
    "    \"\"\"Analyze the trade-offs between microservices and monolithic \n",
    "    architectures. Consider scalability and maintainability.\"\"\"\n",
    ")\n",
    "\n",
    "print(f\"Model selected: {decision.model}\")\n",
    "print(f\"Reason: {decision.reason}\")\n",
    "print(f\"Complexity score: {decision.complexity_score:.2f}\")\n",
    "print(f\"Response: {response.content[:150]}...\")\n",
    "print(f\"Cost: ${response.cost:.4f}\")"
   ]
  },
  {
   "cell_type": "markdown",
   "metadata": {},
   "source": [
    "### 💰 Value\n",
    "\n",
    "**Cost Savings:**\n",
    "- Simple queries: gpt-3.5-turbo ($0.001) vs gpt-4o ($0.01) = **90% savings**\n",
    "- Automatic optimization across 1000s of queries\n",
    "- No manual routing logic needed\n",
    "\n",
    "**Result:** $100 → $55 monthly cost (45% average savings)"
   ]
  },
  {
   "cell_type": "markdown",
   "metadata": {},
   "source": [
    "---\n",
    "\n",
    "## A/B Testing 🧪\n",
    "\n",
    "Compare models or prompts with automatic tracking.\n",
    "\n",
    "**The Problem:** Which model/prompt is actually better?\n",
    "\n",
    "**The Solution:** Data-driven A/B testing with automatic winner detection."
   ]
  },
  {
   "cell_type": "code",
   "execution_count": 17,
   "metadata": {},
   "outputs": [
    {
     "name": "stdout",
     "output_type": "stream",
     "text": [
      "✅ A/B test created\n",
      "   Variants: ['gpt4', 'claude']\n",
      "   Split: [0.5, 0.5]\n"
     ]
    }
   ],
   "source": [
    "# Create A/B test\n",
    "test = mla.create_ab_test(\n",
    "    name=\"model_comparison\",\n",
    "    variants={\n",
    "        'gpt4': {'model': 'gpt-4o', 'temperature': 0.7},\n",
    "        'claude': {'model': 'claude-3-5-sonnet', 'temperature': 0.7}\n",
    "    },\n",
    "    split=[0.5, 0.5]  # 50/50 split\n",
    ")\n",
    "\n",
    "print(\"✅ A/B test created\")\n",
    "print(f\"   Variants: {list(test.variants.keys())}\")\n",
    "print(f\"   Split: {test.split}\")"
   ]
  },
  {
   "cell_type": "code",
   "execution_count": 18,
   "metadata": {},
   "outputs": [
    {
     "name": "stdout",
     "output_type": "stream",
     "text": [
      "Running A/B test...\n",
      "\n",
      "\n",
      "\u001b[1;31mGive Feedback / Get Help: https://github.com/BerriAI/litellm/issues/new\u001b[0m\n",
      "LiteLLM.Info: If you need to debug this error, use `litellm._turn_on_debug()'.\n",
      "\n",
      "\n",
      "\u001b[1;31mGive Feedback / Get Help: https://github.com/BerriAI/litellm/issues/new\u001b[0m\n",
      "LiteLLM.Info: If you need to debug this error, use `litellm._turn_on_debug()'.\n",
      "\n",
      "\n",
      "\u001b[1;31mGive Feedback / Get Help: https://github.com/BerriAI/litellm/issues/new\u001b[0m\n",
      "LiteLLM.Info: If you need to debug this error, use `litellm._turn_on_debug()'.\n",
      "\n",
      "\n",
      "\u001b[1;31mGive Feedback / Get Help: https://github.com/BerriAI/litellm/issues/new\u001b[0m\n",
      "LiteLLM.Info: If you need to debug this error, use `litellm._turn_on_debug()'.\n",
      "\n",
      "\n",
      "\u001b[1;31mGive Feedback / Get Help: https://github.com/BerriAI/litellm/issues/new\u001b[0m\n",
      "LiteLLM.Info: If you need to debug this error, use `litellm._turn_on_debug()'.\n",
      "\n",
      "\n",
      "\u001b[1;31mGive Feedback / Get Help: https://github.com/BerriAI/litellm/issues/new\u001b[0m\n",
      "LiteLLM.Info: If you need to debug this error, use `litellm._turn_on_debug()'.\n",
      "\n",
      "\n",
      "\u001b[1;31mGive Feedback / Get Help: https://github.com/BerriAI/litellm/issues/new\u001b[0m\n",
      "LiteLLM.Info: If you need to debug this error, use `litellm._turn_on_debug()'.\n",
      "\n",
      "\n",
      "\u001b[1;31mGive Feedback / Get Help: https://github.com/BerriAI/litellm/issues/new\u001b[0m\n",
      "LiteLLM.Info: If you need to debug this error, use `litellm._turn_on_debug()'.\n",
      "\n",
      "\n",
      "\u001b[1;31mGive Feedback / Get Help: https://github.com/BerriAI/litellm/issues/new\u001b[0m\n",
      "LiteLLM.Info: If you need to debug this error, use `litellm._turn_on_debug()'.\n",
      "\n",
      "\n",
      "\u001b[1;31mGive Feedback / Get Help: https://github.com/BerriAI/litellm/issues/new\u001b[0m\n",
      "LiteLLM.Info: If you need to debug this error, use `litellm._turn_on_debug()'.\n",
      "\n",
      "\n",
      "\u001b[1;31mGive Feedback / Get Help: https://github.com/BerriAI/litellm/issues/new\u001b[0m\n",
      "LiteLLM.Info: If you need to debug this error, use `litellm._turn_on_debug()'.\n",
      "\n",
      "\n",
      "\u001b[1;31mGive Feedback / Get Help: https://github.com/BerriAI/litellm/issues/new\u001b[0m\n",
      "LiteLLM.Info: If you need to debug this error, use `litellm._turn_on_debug()'.\n",
      "\n",
      "\n",
      "\u001b[1;31mGive Feedback / Get Help: https://github.com/BerriAI/litellm/issues/new\u001b[0m\n",
      "LiteLLM.Info: If you need to debug this error, use `litellm._turn_on_debug()'.\n",
      "\n",
      "\n",
      "\u001b[1;31mGive Feedback / Get Help: https://github.com/BerriAI/litellm/issues/new\u001b[0m\n",
      "LiteLLM.Info: If you need to debug this error, use `litellm._turn_on_debug()'.\n",
      "\n",
      "\n",
      "\u001b[1;31mGive Feedback / Get Help: https://github.com/BerriAI/litellm/issues/new\u001b[0m\n",
      "LiteLLM.Info: If you need to debug this error, use `litellm._turn_on_debug()'.\n",
      "\n"
     ]
    },
    {
     "ename": "RuntimeError",
     "evalue": "All models failed after retries. Last error: LLM completion failed: litellm.AuthenticationError: AuthenticationError: OpenAIException - The api_key client option must be set either by passing api_key to the client or by setting the OPENAI_API_KEY environment variable",
     "output_type": "error",
     "traceback": [
      "\u001b[0;31m---------------------------------------------------------------------------\u001b[0m",
      "\u001b[0;31mRuntimeError\u001b[0m                              Traceback (most recent call last)",
      "Cell \u001b[0;32mIn[18], line 12\u001b[0m\n\u001b[1;32m     10\u001b[0m \u001b[38;5;28mprint\u001b[39m(\u001b[38;5;124m\"\u001b[39m\u001b[38;5;124mRunning A/B test...\u001b[39m\u001b[38;5;130;01m\\n\u001b[39;00m\u001b[38;5;124m\"\u001b[39m)\n\u001b[1;32m     11\u001b[0m \u001b[38;5;28;01mfor\u001b[39;00m query \u001b[38;5;129;01min\u001b[39;00m queries:\n\u001b[0;32m---> 12\u001b[0m     variant, response \u001b[38;5;241m=\u001b[39m \u001b[43mtest\u001b[49m\u001b[38;5;241;43m.\u001b[39;49m\u001b[43mrun\u001b[49m\u001b[43m(\u001b[49m\n\u001b[1;32m     13\u001b[0m \u001b[43m        \u001b[49m\u001b[43mmessages\u001b[49m\u001b[38;5;241;43m=\u001b[39;49m\u001b[43m[\u001b[49m\u001b[43m{\u001b[49m\u001b[38;5;124;43m\"\u001b[39;49m\u001b[38;5;124;43mrole\u001b[39;49m\u001b[38;5;124;43m\"\u001b[39;49m\u001b[43m:\u001b[49m\u001b[43m \u001b[49m\u001b[38;5;124;43m\"\u001b[39;49m\u001b[38;5;124;43muser\u001b[39;49m\u001b[38;5;124;43m\"\u001b[39;49m\u001b[43m,\u001b[49m\u001b[43m \u001b[49m\u001b[38;5;124;43m\"\u001b[39;49m\u001b[38;5;124;43mcontent\u001b[39;49m\u001b[38;5;124;43m\"\u001b[39;49m\u001b[43m:\u001b[49m\u001b[43m \u001b[49m\u001b[43mquery\u001b[49m\u001b[43m}\u001b[49m\u001b[43m]\u001b[49m\n\u001b[1;32m     14\u001b[0m \u001b[43m    \u001b[49m\u001b[43m)\u001b[49m\n\u001b[1;32m     15\u001b[0m     \u001b[38;5;28mprint\u001b[39m(\u001b[38;5;124mf\u001b[39m\u001b[38;5;124m\"\u001b[39m\u001b[38;5;124mQuery: \u001b[39m\u001b[38;5;132;01m{\u001b[39;00mquery[:\u001b[38;5;241m30\u001b[39m]\u001b[38;5;132;01m}\u001b[39;00m\u001b[38;5;124m...\u001b[39m\u001b[38;5;124m\"\u001b[39m)\n\u001b[1;32m     16\u001b[0m     \u001b[38;5;28mprint\u001b[39m(\u001b[38;5;124mf\u001b[39m\u001b[38;5;124m\"\u001b[39m\u001b[38;5;124m  → \u001b[39m\u001b[38;5;132;01m{\u001b[39;00mvariant\u001b[38;5;132;01m}\u001b[39;00m\u001b[38;5;124m | $\u001b[39m\u001b[38;5;132;01m{\u001b[39;00mresponse\u001b[38;5;241m.\u001b[39mcost\u001b[38;5;132;01m:\u001b[39;00m\u001b[38;5;124m.4f\u001b[39m\u001b[38;5;132;01m}\u001b[39;00m\u001b[38;5;124m | \u001b[39m\u001b[38;5;132;01m{\u001b[39;00mresponse\u001b[38;5;241m.\u001b[39mlatency\u001b[38;5;132;01m:\u001b[39;00m\u001b[38;5;124m.2f\u001b[39m\u001b[38;5;132;01m}\u001b[39;00m\u001b[38;5;124ms\u001b[39m\u001b[38;5;130;01m\\n\u001b[39;00m\u001b[38;5;124m\"\u001b[39m)\n",
      "File \u001b[0;32m~/Desktop/gateway-oss/mlflowlite/routing.py:236\u001b[0m, in \u001b[0;36mABTest.run\u001b[0;34m(self, messages, **kwargs)\u001b[0m\n\u001b[1;32m    234\u001b[0m \u001b[38;5;66;03m# Make the call\u001b[39;00m\n\u001b[1;32m    235\u001b[0m start_time \u001b[38;5;241m=\u001b[39m time\u001b[38;5;241m.\u001b[39mtime()\n\u001b[0;32m--> 236\u001b[0m response \u001b[38;5;241m=\u001b[39m \u001b[43mcompletion\u001b[49m\u001b[43m(\u001b[49m\u001b[43mmessages\u001b[49m\u001b[38;5;241;43m=\u001b[39;49m\u001b[43mmessages\u001b[49m\u001b[43m,\u001b[49m\u001b[43m \u001b[49m\u001b[38;5;241;43m*\u001b[39;49m\u001b[38;5;241;43m*\u001b[39;49m\u001b[43mcall_args\u001b[49m\u001b[43m)\u001b[49m\n\u001b[1;32m    238\u001b[0m \u001b[38;5;66;03m# Track stats\u001b[39;00m\n\u001b[1;32m    239\u001b[0m \u001b[38;5;28mself\u001b[39m\u001b[38;5;241m.\u001b[39mstats[variant_name][\u001b[38;5;124m'\u001b[39m\u001b[38;5;124mcount\u001b[39m\u001b[38;5;124m'\u001b[39m] \u001b[38;5;241m+\u001b[39m\u001b[38;5;241m=\u001b[39m \u001b[38;5;241m1\u001b[39m\n",
      "File \u001b[0;32m~/Desktop/gateway-oss/mlflowlite/litellm_style_api.py:515\u001b[0m, in \u001b[0;36mcompletion\u001b[0;34m(model, messages, temperature, max_tokens, tools, stream, api_key, timeout, max_retries, fallback_models, **kwargs)\u001b[0m\n\u001b[1;32m    473\u001b[0m \u001b[38;5;250m\u001b[39m\u001b[38;5;124;03m\"\"\"\u001b[39;00m\n\u001b[1;32m    474\u001b[0m \u001b[38;5;124;03mCreate a completion (LiteLLM-style interface).\u001b[39;00m\n\u001b[1;32m    475\u001b[0m \u001b[38;5;124;03m\u001b[39;00m\n\u001b[0;32m   (...)\u001b[0m\n\u001b[1;32m    511\u001b[0m \u001b[38;5;124;03m    ... )\u001b[39;00m\n\u001b[1;32m    512\u001b[0m \u001b[38;5;124;03m\"\"\"\u001b[39;00m\n\u001b[1;32m    513\u001b[0m fallback \u001b[38;5;241m=\u001b[39m fallback_models \u001b[38;5;129;01mor\u001b[39;00m _default_fallback_models\n\u001b[0;32m--> 515\u001b[0m \u001b[38;5;28;01mreturn\u001b[39;00m \u001b[43m_completion_with_reliability\u001b[49m\u001b[43m(\u001b[49m\n\u001b[1;32m    516\u001b[0m \u001b[43m    \u001b[49m\u001b[43mmodel\u001b[49m\u001b[38;5;241;43m=\u001b[39;49m\u001b[43mmodel\u001b[49m\u001b[43m,\u001b[49m\n\u001b[1;32m    517\u001b[0m \u001b[43m    \u001b[49m\u001b[43mmessages\u001b[49m\u001b[38;5;241;43m=\u001b[39;49m\u001b[43mmessages\u001b[49m\u001b[43m,\u001b[49m\n\u001b[1;32m    518\u001b[0m \u001b[43m    \u001b[49m\u001b[43mtemperature\u001b[49m\u001b[38;5;241;43m=\u001b[39;49m\u001b[43mtemperature\u001b[49m\u001b[43m,\u001b[49m\n\u001b[1;32m    519\u001b[0m \u001b[43m    \u001b[49m\u001b[43mmax_tokens\u001b[49m\u001b[38;5;241;43m=\u001b[39;49m\u001b[43mmax_tokens\u001b[49m\u001b[43m,\u001b[49m\n\u001b[1;32m    520\u001b[0m \u001b[43m    \u001b[49m\u001b[43mtools\u001b[49m\u001b[38;5;241;43m=\u001b[39;49m\u001b[43mtools\u001b[49m\u001b[43m,\u001b[49m\n\u001b[1;32m    521\u001b[0m \u001b[43m    \u001b[49m\u001b[43mapi_key\u001b[49m\u001b[38;5;241;43m=\u001b[39;49m\u001b[43mapi_key\u001b[49m\u001b[43m,\u001b[49m\n\u001b[1;32m    522\u001b[0m \u001b[43m    \u001b[49m\u001b[43mtimeout\u001b[49m\u001b[38;5;241;43m=\u001b[39;49m\u001b[43mtimeout\u001b[49m\u001b[43m,\u001b[49m\n\u001b[1;32m    523\u001b[0m \u001b[43m    \u001b[49m\u001b[43mmax_retries\u001b[49m\u001b[38;5;241;43m=\u001b[39;49m\u001b[43mmax_retries\u001b[49m\u001b[43m,\u001b[49m\n\u001b[1;32m    524\u001b[0m \u001b[43m    \u001b[49m\u001b[43mfallback_models\u001b[49m\u001b[38;5;241;43m=\u001b[39;49m\u001b[43mfallback\u001b[49m\u001b[43m,\u001b[49m\n\u001b[1;32m    525\u001b[0m \u001b[43m    \u001b[49m\u001b[38;5;241;43m*\u001b[39;49m\u001b[38;5;241;43m*\u001b[39;49m\u001b[43mkwargs\u001b[49m\n\u001b[1;32m    526\u001b[0m \u001b[43m\u001b[49m\u001b[43m)\u001b[49m\n",
      "File \u001b[0;32m~/Desktop/gateway-oss/mlflowlite/litellm_style_api.py:261\u001b[0m, in \u001b[0;36m_completion_with_reliability\u001b[0;34m(model, messages, temperature, max_tokens, tools, api_key, timeout, max_retries, fallback_models, **kwargs)\u001b[0m\n\u001b[1;32m    258\u001b[0m             \u001b[38;5;28;01mbreak\u001b[39;00m\n\u001b[1;32m    260\u001b[0m \u001b[38;5;66;03m# All models and retries exhausted\u001b[39;00m\n\u001b[0;32m--> 261\u001b[0m \u001b[38;5;28;01mraise\u001b[39;00m \u001b[38;5;167;01mRuntimeError\u001b[39;00m(\u001b[38;5;124mf\u001b[39m\u001b[38;5;124m\"\u001b[39m\u001b[38;5;124mAll models failed after retries. Last error: \u001b[39m\u001b[38;5;132;01m{\u001b[39;00mlast_error\u001b[38;5;132;01m}\u001b[39;00m\u001b[38;5;124m\"\u001b[39m)\n",
      "\u001b[0;31mRuntimeError\u001b[0m: All models failed after retries. Last error: LLM completion failed: litellm.AuthenticationError: AuthenticationError: OpenAIException - The api_key client option must be set either by passing api_key to the client or by setting the OPENAI_API_KEY environment variable"
     ]
    }
   ],
   "source": [
    "# Run test with multiple queries\n",
    "queries = [\n",
    "    \"Explain machine learning\",\n",
    "    \"What are microservices?\",\n",
    "    \"How does REST API work?\",\n",
    "    \"Explain cloud computing\",\n",
    "    \"What is DevOps?\"\n",
    "]\n",
    "\n",
    "print(\"Running A/B test...\\n\")\n",
    "for query in queries:\n",
    "    variant, response = test.run(\n",
    "        messages=[{\"role\": \"user\", \"content\": query}]\n",
    "    )\n",
    "    print(f\"Query: {query[:30]}...\")\n",
    "    print(f\"  → {variant} | ${response.cost:.4f} | {response.latency:.2f}s\\n\")"
   ]
  },
  {
   "cell_type": "code",
   "execution_count": null,
   "metadata": {},
   "outputs": [],
   "source": [
    "# View results\n",
    "test.print_report()"
   ]
  },
  {
   "cell_type": "code",
   "execution_count": null,
   "metadata": {},
   "outputs": [],
   "source": [
    "# Get winner\n",
    "winner, stats = test.get_winner('cost')\n",
    "\n",
    "print(f\"\\n🏆 Winner (by cost): {winner}\")\n",
    "print(f\"   Average cost: ${stats['avg_cost']:.4f}\")\n",
    "print(f\"   Total requests: {stats['count']}\")\n",
    "print(f\"   Avg latency: {stats['avg_latency']:.2f}s\")"
   ]
  },
  {
   "cell_type": "markdown",
   "metadata": {},
   "source": [
    "### 💰 Value\n",
    "\n",
    "**Data-Driven Decisions:**\n",
    "- Test before committing to a model\n",
    "- Automatic tracking of all metrics\n",
    "- Clear winner detection\n",
    "- Compare anything: models, prompts, configs\n",
    "\n",
    "**Result:** Switch to winner → save 20-40% on costs with same quality"
   ]
  },
  {
   "cell_type": "markdown",
   "metadata": {},
   "source": [
    "---\n",
    "\n",
    "## 🎯 Advanced Features Summary\n",
    "\n",
    "**Smart Routing:**\n",
    "```python\n",
    "decision, response = mla.smart_query(\"Your query\")\n",
    "# Automatic model selection based on complexity\n",
    "```\n",
    "\n",
    "**A/B Testing:**\n",
    "```python\n",
    "test = mla.create_ab_test(name=\"test\", variants={...})\n",
    "variant, response = test.run(messages=[...])\n",
    "test.print_report()\n",
    "```\n",
    "\n",
    "**Combined Impact:**\n",
    "- 45% average cost reduction\n",
    "- Data-driven optimization\n",
    "- Production-ready reliability"
   ]
  }
 ],
 "metadata": {
  "kernelspec": {
   "display_name": "venv",
   "language": "python",
   "name": "python3"
  },
  "language_info": {
   "codemirror_mode": {
    "name": "ipython",
    "version": 3
   },
   "file_extension": ".py",
   "mimetype": "text/x-python",
   "name": "python",
   "nbconvert_exporter": "python",
   "pygments_lexer": "ipython3",
   "version": "3.9.6"
  }
 },
 "nbformat": 4,
 "nbformat_minor": 2
}
